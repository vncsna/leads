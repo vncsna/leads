{
 "cells": [
  {
   "cell_type": "markdown",
   "metadata": {},
   "source": [
    "# Desafio 2"
   ]
  },
  {
   "cell_type": "code",
   "execution_count": 1,
   "metadata": {},
   "outputs": [],
   "source": [
    "import json\n",
    "import pandas as pd"
   ]
  },
  {
   "cell_type": "code",
   "execution_count": 2,
   "metadata": {},
   "outputs": [],
   "source": [
    "df = pd.read_csv(\"desafio1.csv\")"
   ]
  },
  {
   "cell_type": "markdown",
   "metadata": {},
   "source": [
    "Primeira versão"
   ]
  },
  {
   "cell_type": "code",
   "execution_count": 3,
   "metadata": {
    "scrolled": true
   },
   "outputs": [
    {
     "data": {
      "text/plain": [
       "{'SC': {'moda': 850.0,\n",
       "  'mediana': 653.0,\n",
       "  'media': 649.5376527422563,\n",
       "  'desvio_padrao': 97.233492793433},\n",
       " 'RS': {'moda': 850.0,\n",
       "  'mediana': 650.0,\n",
       "  'media': 651.1051428571428,\n",
       "  'desvio_padrao': 95.13659841383574},\n",
       " 'PR': {'moda': 850.0,\n",
       "  'mediana': 650.0,\n",
       "  'media': 648.9612940496822,\n",
       "  'desvio_padrao': 98.60718591309758}}"
      ]
     },
     "execution_count": 3,
     "metadata": {},
     "output_type": "execute_result"
    }
   ],
   "source": [
    "stats = {}\n",
    "for i in ['SC', 'RS', 'PR']:\n",
    "    col = df[df['estado_residencia'] == i]\n",
    "    col = col['pontuacao_credito']\n",
    "    stats[i] = {\n",
    "        'moda': float(col.mode()[0]),\n",
    "        'mediana': float(col.median()),\n",
    "        'media': float(col.mean()),\n",
    "        'desvio_padrao': float(col.std())\n",
    "    }\n",
    "stats"
   ]
  },
  {
   "cell_type": "code",
   "execution_count": 4,
   "metadata": {},
   "outputs": [],
   "source": [
    "with open(\"submission.json\", \"w\") as file:\n",
    "    json.dump(stats, file)"
   ]
  },
  {
   "cell_type": "markdown",
   "metadata": {},
   "source": [
    "Segunda versão, do code review de outro aluno"
   ]
  },
  {
   "cell_type": "code",
   "execution_count": 5,
   "metadata": {},
   "outputs": [
    {
     "data": {
      "text/html": [
       "<div>\n",
       "<style scoped>\n",
       "    .dataframe tbody tr th:only-of-type {\n",
       "        vertical-align: middle;\n",
       "    }\n",
       "\n",
       "    .dataframe tbody tr th {\n",
       "        vertical-align: top;\n",
       "    }\n",
       "\n",
       "    .dataframe thead th {\n",
       "        text-align: right;\n",
       "    }\n",
       "</style>\n",
       "<table border=\"1\" class=\"dataframe\">\n",
       "  <thead>\n",
       "    <tr style=\"text-align: right;\">\n",
       "      <th></th>\n",
       "      <th>moda</th>\n",
       "      <th>mediana</th>\n",
       "      <th>media</th>\n",
       "      <th>desvio_padrao</th>\n",
       "    </tr>\n",
       "    <tr>\n",
       "      <th>estado_residencia</th>\n",
       "      <th></th>\n",
       "      <th></th>\n",
       "      <th></th>\n",
       "      <th></th>\n",
       "    </tr>\n",
       "  </thead>\n",
       "  <tbody>\n",
       "    <tr>\n",
       "      <th>PR</th>\n",
       "      <td>850</td>\n",
       "      <td>650</td>\n",
       "      <td>648.961294</td>\n",
       "      <td>98.607186</td>\n",
       "    </tr>\n",
       "    <tr>\n",
       "      <th>RS</th>\n",
       "      <td>850</td>\n",
       "      <td>650</td>\n",
       "      <td>651.105143</td>\n",
       "      <td>95.136598</td>\n",
       "    </tr>\n",
       "    <tr>\n",
       "      <th>SC</th>\n",
       "      <td>850</td>\n",
       "      <td>653</td>\n",
       "      <td>649.537653</td>\n",
       "      <td>97.233493</td>\n",
       "    </tr>\n",
       "  </tbody>\n",
       "</table>\n",
       "</div>"
      ],
      "text/plain": [
       "                   moda  mediana       media  desvio_padrao\n",
       "estado_residencia                                          \n",
       "PR                  850      650  648.961294      98.607186\n",
       "RS                  850      650  651.105143      95.136598\n",
       "SC                  850      653  649.537653      97.233493"
      ]
     },
     "execution_count": 5,
     "metadata": {},
     "output_type": "execute_result"
    }
   ],
   "source": [
    "func = [lambda x: pd.Series.mode(x)[0], 'median', 'mean', 'std']\n",
    "stats = df.groupby('estado_residencia')['pontuacao_credito'].agg(func)\n",
    "columns = {'<lambda_0>':'moda', 'median':'mediana', 'mean':'media', 'std':'desvio_padrao'}\n",
    "stats.rename(columns=columns, inplace=True)\n",
    "stats"
   ]
  },
  {
   "cell_type": "code",
   "execution_count": 6,
   "metadata": {},
   "outputs": [],
   "source": [
    "stats.to_json('submission2.json', orient='index')"
   ]
  },
  {
   "cell_type": "markdown",
   "metadata": {},
   "source": [
    "Terceira versão, do code review de outro aluno"
   ]
  },
  {
   "cell_type": "code",
   "execution_count": 7,
   "metadata": {},
   "outputs": [
    {
     "data": {
      "text/html": [
       "<div>\n",
       "<style scoped>\n",
       "    .dataframe tbody tr th:only-of-type {\n",
       "        vertical-align: middle;\n",
       "    }\n",
       "\n",
       "    .dataframe tbody tr th {\n",
       "        vertical-align: top;\n",
       "    }\n",
       "\n",
       "    .dataframe thead th {\n",
       "        text-align: right;\n",
       "    }\n",
       "</style>\n",
       "<table border=\"1\" class=\"dataframe\">\n",
       "  <thead>\n",
       "    <tr style=\"text-align: right;\">\n",
       "      <th></th>\n",
       "      <th>moda</th>\n",
       "      <th>mediana</th>\n",
       "      <th>media</th>\n",
       "      <th>desvio_padrao</th>\n",
       "    </tr>\n",
       "    <tr>\n",
       "      <th>estado_residencia</th>\n",
       "      <th></th>\n",
       "      <th></th>\n",
       "      <th></th>\n",
       "      <th></th>\n",
       "    </tr>\n",
       "  </thead>\n",
       "  <tbody>\n",
       "    <tr>\n",
       "      <th>PR</th>\n",
       "      <td>850.0</td>\n",
       "      <td>650.0</td>\n",
       "      <td>648.961294</td>\n",
       "      <td>98.607186</td>\n",
       "    </tr>\n",
       "    <tr>\n",
       "      <th>RS</th>\n",
       "      <td>850.0</td>\n",
       "      <td>650.0</td>\n",
       "      <td>651.105143</td>\n",
       "      <td>95.136598</td>\n",
       "    </tr>\n",
       "    <tr>\n",
       "      <th>SC</th>\n",
       "      <td>850.0</td>\n",
       "      <td>653.0</td>\n",
       "      <td>649.537653</td>\n",
       "      <td>97.233493</td>\n",
       "    </tr>\n",
       "  </tbody>\n",
       "</table>\n",
       "</div>"
      ],
      "text/plain": [
       "                    moda  mediana       media  desvio_padrao\n",
       "estado_residencia                                           \n",
       "PR                 850.0    650.0  648.961294      98.607186\n",
       "RS                 850.0    650.0  651.105143      95.136598\n",
       "SC                 850.0    653.0  649.537653      97.233493"
      ]
     },
     "execution_count": 7,
     "metadata": {},
     "output_type": "execute_result"
    }
   ],
   "source": [
    "def get_stats(df):\n",
    "    return {'moda': df.mode()[0], 'mediana': df.median(), 'media': df.mean(), 'desvio_padrao': df.std()}\n",
    "df_group = df['pontuacao_credito'].groupby(df['estado_residencia']).apply(get_stats).unstack()\n",
    "df_group"
   ]
  },
  {
   "cell_type": "code",
   "execution_count": 8,
   "metadata": {},
   "outputs": [],
   "source": [
    "df_group.to_json('submission3.json', orient='index')"
   ]
  },
  {
   "cell_type": "code",
   "execution_count": null,
   "metadata": {},
   "outputs": [],
   "source": []
  }
 ],
 "metadata": {
  "kernelspec": {
   "display_name": "Python 3",
   "language": "python",
   "name": "python3"
  },
  "language_info": {
   "codemirror_mode": {
    "name": "ipython",
    "version": 3
   },
   "file_extension": ".py",
   "mimetype": "text/x-python",
   "name": "python",
   "nbconvert_exporter": "python",
   "pygments_lexer": "ipython3",
   "version": "3.7.6"
  }
 },
 "nbformat": 4,
 "nbformat_minor": 4
}
