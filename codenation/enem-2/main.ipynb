{
 "cells": [
  {
   "cell_type": "markdown",
   "metadata": {},
   "source": [
    "# Desafio 0"
   ]
  },
  {
   "cell_type": "markdown",
   "metadata": {
    "colab_type": "text",
    "id": "-aQPGyew5LjJ"
   },
   "source": [
    "### Bibliotecas"
   ]
  },
  {
   "cell_type": "code",
   "execution_count": 1,
   "metadata": {
    "colab": {},
    "colab_type": "code",
    "id": "H99SLITkIRYJ"
   },
   "outputs": [],
   "source": [
    "from pathlib import Path\n",
    "\n",
    "import numpy as np\n",
    "import pandas as pd\n",
    "import seaborn as sns\n",
    "import matplotlib.pyplot as plt\n",
    "from sklearn.linear_model import LinearRegression"
   ]
  },
  {
   "cell_type": "markdown",
   "metadata": {
    "colab_type": "text",
    "id": "kDmMEXeK5Mfo"
   },
   "source": [
    "### Leitura"
   ]
  },
  {
   "cell_type": "code",
   "execution_count": 2,
   "metadata": {
    "colab": {},
    "colab_type": "code",
    "id": "rWwVmcmn5KJ_"
   },
   "outputs": [],
   "source": [
    "train = pd.read_csv('train.csv').set_index('NU_INSCRICAO')\n",
    "test = pd.read_csv('test.csv').set_index('NU_INSCRICAO')"
   ]
  },
  {
   "cell_type": "markdown",
   "metadata": {
    "colab_type": "text",
    "id": "qvjGN9oOOztz"
   },
   "source": [
    "### Seleção"
   ]
  },
  {
   "cell_type": "code",
   "execution_count": 3,
   "metadata": {},
   "outputs": [],
   "source": [
    "numerical_train_columns = train.select_dtypes(include=np.number).columns\n",
    "numerical_test_columns = test.select_dtypes(include=np.number).columns\n",
    "columns = numerical_train_columns.intersection(numerical_test_columns)\n",
    "columns = columns.to_list()\n",
    "target = ['NU_NOTA_MT']\n",
    "\n",
    "train = train[columns + target]\n",
    "test = test[columns]"
   ]
  },
  {
   "cell_type": "code",
   "execution_count": 4,
   "metadata": {},
   "outputs": [],
   "source": [
    "columns = ['NU_NOTA_CN', 'NU_NOTA_CH', 'NU_NOTA_LC', 'NU_NOTA_REDACAO']\n",
    "\n",
    "train = train[columns + target]\n",
    "test = test[columns]"
   ]
  },
  {
   "cell_type": "code",
   "execution_count": 5,
   "metadata": {},
   "outputs": [
    {
     "data": {
      "text/html": [
       "<div>\n",
       "<style scoped>\n",
       "    .dataframe tbody tr th:only-of-type {\n",
       "        vertical-align: middle;\n",
       "    }\n",
       "\n",
       "    .dataframe tbody tr th {\n",
       "        vertical-align: top;\n",
       "    }\n",
       "\n",
       "    .dataframe thead th {\n",
       "        text-align: right;\n",
       "    }\n",
       "</style>\n",
       "<table border=\"1\" class=\"dataframe\">\n",
       "  <thead>\n",
       "    <tr style=\"text-align: right;\">\n",
       "      <th></th>\n",
       "      <th>NU_NOTA_CN</th>\n",
       "      <th>NU_NOTA_CH</th>\n",
       "      <th>NU_NOTA_LC</th>\n",
       "      <th>NU_NOTA_REDACAO</th>\n",
       "      <th>NU_NOTA_MT</th>\n",
       "    </tr>\n",
       "    <tr>\n",
       "      <th>NU_INSCRICAO</th>\n",
       "      <th></th>\n",
       "      <th></th>\n",
       "      <th></th>\n",
       "      <th></th>\n",
       "      <th></th>\n",
       "    </tr>\n",
       "  </thead>\n",
       "  <tbody>\n",
       "    <tr>\n",
       "      <th>ed50e8aaa58e7a806c337585efee9ca41f1eb1ad</th>\n",
       "      <td>436.3</td>\n",
       "      <td>495.4</td>\n",
       "      <td>581.2</td>\n",
       "      <td>520.0</td>\n",
       "      <td>399.4</td>\n",
       "    </tr>\n",
       "    <tr>\n",
       "      <th>2c3acac4b33ec2b195d77e7c04a2d75727fad723</th>\n",
       "      <td>474.5</td>\n",
       "      <td>544.1</td>\n",
       "      <td>599.0</td>\n",
       "      <td>580.0</td>\n",
       "      <td>459.8</td>\n",
       "    </tr>\n",
       "    <tr>\n",
       "      <th>f4545f8ccb9ff5c8aad7d32951b3f251a26e6568</th>\n",
       "      <td>NaN</td>\n",
       "      <td>NaN</td>\n",
       "      <td>NaN</td>\n",
       "      <td>NaN</td>\n",
       "      <td>NaN</td>\n",
       "    </tr>\n",
       "    <tr>\n",
       "      <th>3d6ec248fef899c414e77f82d5c6d2bffbeaf7fe</th>\n",
       "      <td>NaN</td>\n",
       "      <td>NaN</td>\n",
       "      <td>NaN</td>\n",
       "      <td>NaN</td>\n",
       "      <td>NaN</td>\n",
       "    </tr>\n",
       "    <tr>\n",
       "      <th>bf896ac8d3ecadd6dba1dfbf50110afcbf5d3268</th>\n",
       "      <td>NaN</td>\n",
       "      <td>NaN</td>\n",
       "      <td>NaN</td>\n",
       "      <td>NaN</td>\n",
       "      <td>NaN</td>\n",
       "    </tr>\n",
       "  </tbody>\n",
       "</table>\n",
       "</div>"
      ],
      "text/plain": [
       "                                          NU_NOTA_CN  NU_NOTA_CH  NU_NOTA_LC  \\\n",
       "NU_INSCRICAO                                                                   \n",
       "ed50e8aaa58e7a806c337585efee9ca41f1eb1ad       436.3       495.4       581.2   \n",
       "2c3acac4b33ec2b195d77e7c04a2d75727fad723       474.5       544.1       599.0   \n",
       "f4545f8ccb9ff5c8aad7d32951b3f251a26e6568         NaN         NaN         NaN   \n",
       "3d6ec248fef899c414e77f82d5c6d2bffbeaf7fe         NaN         NaN         NaN   \n",
       "bf896ac8d3ecadd6dba1dfbf50110afcbf5d3268         NaN         NaN         NaN   \n",
       "\n",
       "                                          NU_NOTA_REDACAO  NU_NOTA_MT  \n",
       "NU_INSCRICAO                                                           \n",
       "ed50e8aaa58e7a806c337585efee9ca41f1eb1ad            520.0       399.4  \n",
       "2c3acac4b33ec2b195d77e7c04a2d75727fad723            580.0       459.8  \n",
       "f4545f8ccb9ff5c8aad7d32951b3f251a26e6568              NaN         NaN  \n",
       "3d6ec248fef899c414e77f82d5c6d2bffbeaf7fe              NaN         NaN  \n",
       "bf896ac8d3ecadd6dba1dfbf50110afcbf5d3268              NaN         NaN  "
      ]
     },
     "execution_count": 5,
     "metadata": {},
     "output_type": "execute_result"
    }
   ],
   "source": [
    "train.head()"
   ]
  },
  {
   "cell_type": "code",
   "execution_count": 6,
   "metadata": {},
   "outputs": [
    {
     "name": "stdout",
     "output_type": "stream",
     "text": [
      "<class 'pandas.core.frame.DataFrame'>\n",
      "Index: 13730 entries, ed50e8aaa58e7a806c337585efee9ca41f1eb1ad to 0af8939c470a600b30bdaa80375ee0db848b0e35\n",
      "Data columns (total 5 columns):\n",
      " #   Column           Non-Null Count  Dtype  \n",
      "---  ------           --------------  -----  \n",
      " 0   NU_NOTA_CN       10341 non-null  float64\n",
      " 1   NU_NOTA_CH       10341 non-null  float64\n",
      " 2   NU_NOTA_LC       10133 non-null  float64\n",
      " 3   NU_NOTA_REDACAO  10133 non-null  float64\n",
      " 4   NU_NOTA_MT       10133 non-null  float64\n",
      "dtypes: float64(5)\n",
      "memory usage: 643.6+ KB\n"
     ]
    }
   ],
   "source": [
    "train.info()"
   ]
  },
  {
   "cell_type": "code",
   "execution_count": 7,
   "metadata": {},
   "outputs": [
    {
     "data": {
      "text/html": [
       "<div>\n",
       "<style scoped>\n",
       "    .dataframe tbody tr th:only-of-type {\n",
       "        vertical-align: middle;\n",
       "    }\n",
       "\n",
       "    .dataframe tbody tr th {\n",
       "        vertical-align: top;\n",
       "    }\n",
       "\n",
       "    .dataframe thead th {\n",
       "        text-align: right;\n",
       "    }\n",
       "</style>\n",
       "<table border=\"1\" class=\"dataframe\">\n",
       "  <thead>\n",
       "    <tr style=\"text-align: right;\">\n",
       "      <th></th>\n",
       "      <th>NU_NOTA_CN</th>\n",
       "      <th>NU_NOTA_CH</th>\n",
       "      <th>NU_NOTA_LC</th>\n",
       "      <th>NU_NOTA_REDACAO</th>\n",
       "      <th>NU_NOTA_MT</th>\n",
       "    </tr>\n",
       "  </thead>\n",
       "  <tbody>\n",
       "    <tr>\n",
       "      <th>count</th>\n",
       "      <td>10341.000000</td>\n",
       "      <td>10341.000000</td>\n",
       "      <td>10133.000000</td>\n",
       "      <td>10133.000000</td>\n",
       "      <td>10133.000000</td>\n",
       "    </tr>\n",
       "    <tr>\n",
       "      <th>mean</th>\n",
       "      <td>473.495155</td>\n",
       "      <td>529.661087</td>\n",
       "      <td>516.472841</td>\n",
       "      <td>529.048258</td>\n",
       "      <td>482.497928</td>\n",
       "    </tr>\n",
       "    <tr>\n",
       "      <th>std</th>\n",
       "      <td>71.093674</td>\n",
       "      <td>73.726344</td>\n",
       "      <td>68.688190</td>\n",
       "      <td>154.294758</td>\n",
       "      <td>99.826323</td>\n",
       "    </tr>\n",
       "    <tr>\n",
       "      <th>min</th>\n",
       "      <td>0.000000</td>\n",
       "      <td>0.000000</td>\n",
       "      <td>0.000000</td>\n",
       "      <td>0.000000</td>\n",
       "      <td>0.000000</td>\n",
       "    </tr>\n",
       "    <tr>\n",
       "      <th>25%</th>\n",
       "      <td>419.900000</td>\n",
       "      <td>480.400000</td>\n",
       "      <td>468.100000</td>\n",
       "      <td>440.000000</td>\n",
       "      <td>408.900000</td>\n",
       "    </tr>\n",
       "    <tr>\n",
       "      <th>50%</th>\n",
       "      <td>459.800000</td>\n",
       "      <td>532.000000</td>\n",
       "      <td>520.900000</td>\n",
       "      <td>540.000000</td>\n",
       "      <td>461.200000</td>\n",
       "    </tr>\n",
       "    <tr>\n",
       "      <th>75%</th>\n",
       "      <td>514.500000</td>\n",
       "      <td>581.200000</td>\n",
       "      <td>564.900000</td>\n",
       "      <td>600.000000</td>\n",
       "      <td>537.600000</td>\n",
       "    </tr>\n",
       "    <tr>\n",
       "      <th>max</th>\n",
       "      <td>806.400000</td>\n",
       "      <td>807.000000</td>\n",
       "      <td>763.600000</td>\n",
       "      <td>1000.000000</td>\n",
       "      <td>952.000000</td>\n",
       "    </tr>\n",
       "  </tbody>\n",
       "</table>\n",
       "</div>"
      ],
      "text/plain": [
       "         NU_NOTA_CN    NU_NOTA_CH    NU_NOTA_LC  NU_NOTA_REDACAO    NU_NOTA_MT\n",
       "count  10341.000000  10341.000000  10133.000000     10133.000000  10133.000000\n",
       "mean     473.495155    529.661087    516.472841       529.048258    482.497928\n",
       "std       71.093674     73.726344     68.688190       154.294758     99.826323\n",
       "min        0.000000      0.000000      0.000000         0.000000      0.000000\n",
       "25%      419.900000    480.400000    468.100000       440.000000    408.900000\n",
       "50%      459.800000    532.000000    520.900000       540.000000    461.200000\n",
       "75%      514.500000    581.200000    564.900000       600.000000    537.600000\n",
       "max      806.400000    807.000000    763.600000      1000.000000    952.000000"
      ]
     },
     "execution_count": 7,
     "metadata": {},
     "output_type": "execute_result"
    }
   ],
   "source": [
    "train.describe()"
   ]
  },
  {
   "cell_type": "code",
   "execution_count": 8,
   "metadata": {},
   "outputs": [
    {
     "data": {
      "image/png": "[encoded data removed]",
      "text/plain": [
       "<Figure size 432x288 with 2 Axes>"
      ]
     },
     "metadata": {
      "needs_background": "light"
     },
     "output_type": "display_data"
    }
   ],
   "source": [
    "sns.heatmap(train.corr());"
   ]
  },
  {
   "cell_type": "code",
   "execution_count": 9,
   "metadata": {
    "colab": {},
    "colab_type": "code",
    "id": "YeqGeDG3XrWC"
   },
   "outputs": [
    {
     "data": {
      "image/png": "[encoded data removed]",
      "text/plain": [
       "<Figure size 432x288 with 1 Axes>"
      ]
     },
     "metadata": {
      "needs_background": "light"
     },
     "output_type": "display_data"
    }
   ],
   "source": [
    "sns.distplot(train['NU_NOTA_MT']);"
   ]
  },
  {
   "cell_type": "code",
   "execution_count": 10,
   "metadata": {},
   "outputs": [
    {
     "data": {
      "image/png": "[encoded data removed]",
      "text/plain": [
       "<Figure size 432x288 with 1 Axes>"
      ]
     },
     "metadata": {
      "needs_background": "light"
     },
     "output_type": "display_data"
    }
   ],
   "source": [
    "sns.distplot(train['NU_NOTA_MT'].fillna(0));"
   ]
  },
  {
   "cell_type": "markdown",
   "metadata": {
    "colab_type": "text",
    "id": "5luNagPAQRvH"
   },
   "source": [
    "### Treinamento"
   ]
  },
  {
   "cell_type": "code",
   "execution_count": 11,
   "metadata": {
    "colab": {},
    "colab_type": "code",
    "id": "O1qBOpSeftGm"
   },
   "outputs": [],
   "source": [
    "train = train.dropna()\n",
    "X = train.iloc[:, :-1].to_numpy()\n",
    "y = train.iloc[:,  -1].to_numpy()"
   ]
  },
  {
   "cell_type": "code",
   "execution_count": 12,
   "metadata": {},
   "outputs": [
    {
     "data": {
      "text/plain": [
       "LinearRegression(copy_X=True, fit_intercept=True, n_jobs=None, normalize=False)"
      ]
     },
     "execution_count": 12,
     "metadata": {},
     "output_type": "execute_result"
    }
   ],
   "source": [
    "model = LinearRegression()\n",
    "model.fit(X, y)"
   ]
  },
  {
   "cell_type": "code",
   "execution_count": 13,
   "metadata": {
    "colab": {},
    "colab_type": "code",
    "id": "45e9V-xWQmkw"
   },
   "outputs": [
    {
     "data": {
      "text/plain": [
       "0.401102106966471"
      ]
     },
     "execution_count": 13,
     "metadata": {},
     "output_type": "execute_result"
    }
   ],
   "source": [
    "model.score(X, y) # R^2"
   ]
  },
  {
   "cell_type": "markdown",
   "metadata": {
    "colab_type": "text",
    "id": "BbGqQB6aPaeY"
   },
   "source": [
    "### Predição"
   ]
  },
  {
   "cell_type": "code",
   "execution_count": 14,
   "metadata": {},
   "outputs": [],
   "source": [
    "def student_validation(df):\n",
    "  isna = df.isna().any(axis=1)\n",
    "  df['NU_NOTA_MT'][isna] = 0\n",
    "  return df['NU_NOTA_MT']\n",
    "\n",
    "(test\n",
    "  .assign(NU_NOTA_MT = model.predict(test.fillna(0).to_numpy()))\n",
    "  .assign(NU_NOTA_MT = lambda df: student_validation(df))\n",
    "  [['NU_NOTA_MT']].round(1)\n",
    "  .to_csv('answer.csv'))"
   ]
  },
  {
   "cell_type": "code",
   "execution_count": null,
   "metadata": {},
   "outputs": [],
   "source": []
  }
 ],
 "metadata": {
  "colab": {
   "authorship_tag": "ABX9TyNVP+TGII2SSdipxib+g6Co",
   "collapsed_sections": [
    "hi2RpX2ACuaQ"
   ],
   "name": "Enem2016.ipynb",
   "private_outputs": true,
   "provenance": []
  },
  "kernelspec": {
   "display_name": "Python 3",
   "language": "python",
   "name": "python3"
  },
  "language_info": {
   "codemirror_mode": {
    "name": "ipython",
    "version": 3
   },
   "file_extension": ".py",
   "mimetype": "text/x-python",
   "name": "python",
   "nbconvert_exporter": "python",
   "pygments_lexer": "ipython3",
   "version": "3.7.6"
  }
 },
 "nbformat": 4,
 "nbformat_minor": 4
}
