{
 "cells": [
  {
   "cell_type": "markdown",
   "metadata": {
    "colab_type": "text",
    "id": "WrtaltrOrcub"
   },
   "source": [
    "## Leads"
   ]
  },
  {
   "cell_type": "markdown",
   "metadata": {
    "colab_type": "text",
    "id": "UKS_G-9urhez"
   },
   "source": [
    "Projeto prático do AceleraDev Data Science, oferecido pela Codenation em junho de 2020. Este notebook foi desenvolvido por Vinicius Aguiar e esta disponível em [github.com/vncsna/leads](https://github.com/vncsna/leads). Durante o desenvolvimento analisei e incorporei o conteúdo compartilhado na comunidade, em específico de [tkleyton](https://github.com/tkleyton) e [diasctiago](https://github.com/diasctiago)."
   ]
  },
  {
   "cell_type": "markdown",
   "metadata": {
    "colab_type": "text",
    "id": "Y_yrV5cBODHN"
   },
   "source": [
    "### Configuração"
   ]
  },
  {
   "cell_type": "code",
   "execution_count": 1,
   "metadata": {
    "colab": {
     "base_uri": "https://localhost:8080/",
     "height": 52
    },
    "colab_type": "code",
    "executionInfo": {
     "elapsed": 856,
     "status": "ok",
     "timestamp": 1592256965015,
     "user": {
      "displayName": "Vinicius Aguiar",
      "photoUrl": "https://lh3.googleusercontent.com/a-/AOh14GiIkJJn8xW1Jifzc3Yu1R42MS1Ter43iIMGz9IS=s64",
      "userId": "17869074096365757693"
     },
     "user_tz": 180
    },
    "id": "3S97eUGCN7ms",
    "outputId": "96605c82-11f9-427d-f585-47cca8aefbc6"
   },
   "outputs": [
    {
     "name": "stderr",
     "output_type": "stream",
     "text": [
      "/usr/local/lib/python3.6/dist-packages/statsmodels/tools/_testing.py:19: FutureWarning: pandas.util.testing is deprecated. Use the functions in the public API at pandas.testing instead.\n",
      "  import pandas.util.testing as tm\n"
     ]
    }
   ],
   "source": [
    "from pathlib import Path\n",
    "from IPython.display import clear_output\n",
    "\n",
    "import numpy as np\n",
    "import pandas as pd\n",
    "import seaborn as sns\n",
    "import matplotlib.pyplot as plt\n",
    "from sklearn.preprocessing import (\n",
    "    Normalizer,\n",
    "    MinMaxScaler,\n",
    "    OneHotEncoder,\n",
    "    LabelBinarizer)\n",
    "from sklearn.decomposition import PCA\n",
    "from sklearn.neighbors import NearestNeighbors\n",
    "from sklearn.model_selection import train_test_split\n",
    "from sklearn.metrics.pairwise import cosine_similarity"
   ]
  },
  {
   "cell_type": "code",
   "execution_count": 2,
   "metadata": {
    "colab": {
     "base_uri": "https://localhost:8080/",
     "height": 34
    },
    "colab_type": "code",
    "executionInfo": {
     "elapsed": 1619,
     "status": "ok",
     "timestamp": 1592256965818,
     "user": {
      "displayName": "Vinicius Aguiar",
      "photoUrl": "https://lh3.googleusercontent.com/a-/AOh14GiIkJJn8xW1Jifzc3Yu1R42MS1Ter43iIMGz9IS=s64",
      "userId": "17869074096365757693"
     },
     "user_tz": 180
    },
    "id": "pB3bKQYrNbNI",
    "outputId": "ddb339f4-1ba4-4ca8-a610-e128f895bbaf"
   },
   "outputs": [
    {
     "name": "stdout",
     "output_type": "stream",
     "text": [
      "Drive already mounted at /content/drive; to attempt to forcibly remount, call drive.mount(\"/content/drive\", force_remount=True).\n"
     ]
    }
   ],
   "source": [
    "from google.colab import drive\n",
    "drive.mount('/content/drive')\n",
    "datadir = Path('/content/drive/My Drive/codenation/market-leads/')"
   ]
  },
  {
   "cell_type": "markdown",
   "metadata": {
    "colab_type": "text",
    "id": "DdUrvJr_OF8F"
   },
   "source": [
    "### Análise Exploratória"
   ]
  },
  {
   "cell_type": "markdown",
   "metadata": {
    "colab_type": "text",
    "id": "sEtS0Me78gFW"
   },
   "source": [
    "#### Leitura e Sanity Check"
   ]
  },
  {
   "cell_type": "markdown",
   "metadata": {
    "colab_type": "text",
    "id": "cSb2m8hVdlqw"
   },
   "source": [
    "Faço a leitura dos arquivos, identificando cada amostra. Logo deleto a coluna redundante com número das linhas.\n",
    "\n",
    "Daí checo o formato dos conjuntos de dados. E analiso se os valores dos portfolios 1, 2 e 3 estão contidos no banco de dados de mercado."
   ]
  },
  {
   "cell_type": "code",
   "execution_count": 3,
   "metadata": {
    "colab": {
     "base_uri": "https://localhost:8080/",
     "height": 176
    },
    "colab_type": "code",
    "executionInfo": {
     "elapsed": 12549,
     "status": "ok",
     "timestamp": 1592256976769,
     "user": {
      "displayName": "Vinicius Aguiar",
      "photoUrl": "https://lh3.googleusercontent.com/a-/AOh14GiIkJJn8xW1Jifzc3Yu1R42MS1Ter43iIMGz9IS=s64",
      "userId": "17869074096365757693"
     },
     "user_tz": 180
    },
    "id": "Dj8mvS3EcwVb",
    "outputId": "654add79-55aa-4f91-b06a-7833611b7547"
   },
   "outputs": [
    {
     "name": "stdout",
     "output_type": "stream",
     "text": [
      "market tem formato (462298, 180)\n",
      "port1 tem formato (555, 180)\n",
      "port2 tem formato (566, 0)\n",
      "port3 tem formato (265, 0)\n",
      "\n",
      "market e port1 tem as mesmas colunas\n",
      "market e port1 tem as mesmas linhas\n",
      "deleto então os dados redundantes\n",
      "ids de port2 e port3 existem em market\n"
     ]
    }
   ],
   "source": [
    "market = pd.read_csv(datadir / 'estaticos_market.csv', index_col='id')\n",
    "port1 = pd.read_csv(datadir / 'estaticos_portfolio1.csv', index_col='id')\n",
    "port2 = pd.read_csv(datadir / 'estaticos_portfolio2.csv', index_col='id')\n",
    "port3 = pd.read_csv(datadir / 'estaticos_portfolio3.csv', index_col='id')\n",
    "\n",
    "market = market.drop('Unnamed: 0', axis=1)\n",
    "port1 = port1.drop('Unnamed: 0', axis=1)\n",
    "port2 = port2.drop('Unnamed: 0', axis=1)\n",
    "port3 = port3.drop('Unnamed: 0', axis=1)\n",
    "\n",
    "print(f'market tem formato {market.shape}')\n",
    "print(f'port1 tem formato {port1.shape}')\n",
    "print(f'port2 tem formato {port2.shape}')\n",
    "print(f'port3 tem formato {port3.shape}')\n",
    "print()\n",
    "\n",
    "try:\n",
    "  if (market.columns == port1.columns).all():\n",
    "    print('market e port1 tem as mesmas colunas')\n",
    "  mesmas_linhas = True\n",
    "  for i in port1.index:\n",
    "    market_row = market.loc[i, :].dropna()\n",
    "    port1_row = port1.loc[i, :].dropna()\n",
    "    if not (market_row == port1_row).all():\n",
    "      mesmas_linhas = False\n",
    "  if mesmas_linhas:\n",
    "    print('market e port1 tem as mesmas linhas')\n",
    "  port1 = port1.drop(port1.columns, axis=1)\n",
    "  print('deleto então os dados redundantes')\n",
    "except:\n",
    "  print('port1 não está contido em market')\n",
    "\n",
    "try:\n",
    "  for i in port2.index:\n",
    "    market.loc[i, :]\n",
    "  for i in port3.index:\n",
    "    market.loc[i, :]\n",
    "  print('ids de port2 e port3 existem em market')\n",
    "except:\n",
    "  print('ids de port2 ou port3 não existem em market')"
   ]
  },
  {
   "cell_type": "markdown",
   "metadata": {
    "colab_type": "text",
    "id": "0FHXPbIi8ixj"
   },
   "source": [
    "#### Sumarização e Correlação"
   ]
  },
  {
   "cell_type": "markdown",
   "metadata": {
    "colab_type": "text",
    "id": "OwctEvEtwVWI"
   },
   "source": [
    "Então gero funções para visualizar uma descrição estatística e uma matriz de correlações. Elas serão utilizadas para a análise dos dados durante o tratamento."
   ]
  },
  {
   "cell_type": "code",
   "execution_count": null,
   "metadata": {
    "colab": {},
    "colab_type": "code",
    "id": "Fk6b44NIcucd"
   },
   "outputs": [],
   "source": [
    "def summary(verbose=True):\n",
    "  if verbose:\n",
    "    print('inicializo um dataframe de informações')\n",
    "  market_info = pd.DataFrame(None, columns=market.columns)\n",
    "  if verbose:\n",
    "    print('  adiciono a quantidade de dados faltantes')\n",
    "  na_row = (market.isnull().sum(axis=0) / market.shape[0])\n",
    "  na_row = na_row.to_numpy().reshape(1, -1).round(4)\n",
    "  na_row =  pd.DataFrame(na_row, index=['na'], columns=market.columns)\n",
    "  market_info = market_info.append(na_row)\n",
    "  if verbose:\n",
    "    print('  adiciono os tipos de dados')\n",
    "  dtypes_row = np.array([str(t) for t in market.dtypes]).reshape(1, -1)\n",
    "  dtypes_row = pd.DataFrame(dtypes_row, index=['dtypes'], columns=market.columns)\n",
    "  market_info = market_info.append(dtypes_row)\n",
    "  if verbose:\n",
    "    print('  adiciono a quantidade de categorias')\n",
    "  nobjects_row = np.zeros((1, market.shape[1]))\n",
    "  for i in range(market.shape[1]):\n",
    "    col = market.columns[i]\n",
    "    if str(market[col].dtype) == 'object':\n",
    "      nobjects_row[0, i] = market[col].unique().size\n",
    "    else:\n",
    "      nobjects_row[0, i] = 0\n",
    "  nobjects_row = pd.DataFrame(nobjects_row, index=['nobjects'], columns=market.columns)\n",
    "  market_info = market_info.append(nobjects_row)\n",
    "  if verbose:\n",
    "    print('  adiciono as estatísticas de primeira ordem')\n",
    "  market_info = market_info.append(market.describe(include='all'))\n",
    "  return market_info\n",
    "\n",
    "def correlation():\n",
    "  corr = market.corr()\n",
    "  mask = np.zeros_like(corr)\n",
    "  mask[np.triu_indices_from(mask)] = True\n",
    "  fig, ax = plt.subplots(figsize=(14, 14))\n",
    "  cmap = sns.diverging_palette(220, 20, sep=20, as_cmap=True)\n",
    "  ax = sns.heatmap(corr, cmap=cmap, annot=True, fmt='.2f', \n",
    "                    linewidths=1, square=True, mask=mask);"
   ]
  },
  {
   "cell_type": "markdown",
   "metadata": {
    "colab_type": "text",
    "id": "couUmu1VtUFr"
   },
   "source": [
    "### Tratamento"
   ]
  },
  {
   "cell_type": "markdown",
   "metadata": {
    "colab_type": "text",
    "id": "11h4EPNl_I7u"
   },
   "source": [
    "#### Seleção das variáveis"
   ]
  },
  {
   "cell_type": "markdown",
   "metadata": {
    "colab_type": "text",
    "id": "lfXAy8QE_p4A"
   },
   "source": [
    "Seleciono para uso apenas as colunas com menos de 10% de dados faltantes. Das restantes descarto as sem significado, inconsistentes, redundantes ou com alta cardinalidade."
   ]
  },
  {
   "cell_type": "code",
   "execution_count": 5,
   "metadata": {
    "colab": {
     "base_uri": "https://localhost:8080/",
     "height": 461
    },
    "colab_type": "code",
    "executionInfo": {
     "elapsed": 18915,
     "status": "ok",
     "timestamp": 1592256983172,
     "user": {
      "displayName": "Vinicius Aguiar",
      "photoUrl": "https://lh3.googleusercontent.com/a-/AOh14GiIkJJn8xW1Jifzc3Yu1R42MS1Ter43iIMGz9IS=s64",
      "userId": "17869074096365757693"
     },
     "user_tz": 180
    },
    "id": "OCmXiF7K_MgA",
    "outputId": "1808fd1b-c699-42ac-91bc-2a0cded0238f"
   },
   "outputs": [
    {
     "name": "stdout",
     "output_type": "stream",
     "text": [
      "deleto as variáveis redundantes\n",
      "  de_natureza_juridica\n",
      "  natureza_juridica_macro\n",
      "  sg_uf_matriz\n",
      "  de_ramo\n",
      "  nm_divisao\n",
      "  nm_segmento\n",
      "  idade_emp_cat\n",
      "  de_faixa_faturamento_estimado\n",
      "  de_faixa_faturamento_estimado_grupo\n",
      "  de_saude_rescencia\n",
      "  nu_meses_rescencia\n",
      "deleto a variável com alta cardinalidade ou sem sentido\n",
      "deleto as variáveis booleanas\n",
      "  fl_me\n",
      "  fl_sa\n",
      "  fl_epp\n",
      "  fl_mei\n",
      "  fl_ltda\n",
      "  fl_st_especial\n",
      "  fl_email\n",
      "  fl_telefone\n",
      "  fl_spa\n",
      "  fl_simples_irregular\n",
      "  fl_passivel_iss\n"
     ]
    }
   ],
   "source": [
    "market = market.loc[:, summary(False).loc['na', :] <= .1]\n",
    "\n",
    "# em relação as variáveis redundantes. Falta\n",
    "# escolher entre deletar de_natureza_juridica ou natureza_juridica_macro?\n",
    "# escolher entre deletar sg_uf ou sg_uf_matriz?\n",
    "# escolher entre deletar de_ramo, setor, nm_divisao ou nm_segmento?\n",
    "# escolher entre deletar idade_empresa_anos ou idade_emp_cat?\n",
    "# escolher entre\n",
    "#   de_faixa_faturamento_estimado, de_faixa_faturamento_estimado_grupo,\n",
    "#   vl_faturamento_estimado_aux ou vl_faturamento_estimado_grupo_aux?\n",
    "# escolher entre de_saude_rescencia ou nu_meses_rescencia?\n",
    "# deletar dt_situacao pela cardinalidade e por não ter sentido\n",
    "print('deleto as variáveis redundantes')\n",
    "for col in ['de_natureza_juridica', \n",
    "            'natureza_juridica_macro', # trade-off entre portfolio 2 e 3\n",
    "            #'sg_uf',\n",
    "            'sg_uf_matriz',\n",
    "            'de_ramo',\n",
    "            #'setor',\n",
    "            'nm_divisao',\n",
    "            'nm_segmento',\n",
    "            #'idade_empresa_anos',\n",
    "            'idade_emp_cat',\n",
    "            'de_faixa_faturamento_estimado',\n",
    "            'de_faixa_faturamento_estimado_grupo',\n",
    "            #'vl_faturamento_estimado_aux',\n",
    "            #'vl_faturamento_estimado_grupo_aux',\n",
    "            'de_saude_rescencia',\n",
    "            'nu_meses_rescencia'\n",
    "            ]:\n",
    "  print(f'  {col}')\n",
    "  market = market.drop([col], axis=1)\n",
    "\n",
    "print('deleto a variável com alta cardinalidade ou sem sentido')\n",
    "for col in ['dt_situacao',\n",
    "            'vl_total_veiculos_pesados_grupo',\n",
    "            'vl_total_veiculos_leves_grupo'\n",
    "            ]:\n",
    "  market = market.drop([col], axis=1)\n",
    "\n",
    "# preciso analisar quais fazem sentido permanecerem \n",
    "print('deleto as variáveis booleanas')\n",
    "for col in [#'fl_matriz',\n",
    "            'fl_me', \n",
    "            'fl_sa', \n",
    "            'fl_epp',\n",
    "            'fl_mei',\n",
    "            'fl_ltda',\n",
    "            'fl_st_especial',\n",
    "            'fl_email',\n",
    "            'fl_telefone',\n",
    "            #'fl_rm',\n",
    "            'fl_spa',\n",
    "            #'fl_antt',\n",
    "            #'fl_veiculo',\n",
    "            'fl_simples_irregular',\n",
    "            'fl_passivel_iss'\n",
    "            ]:\n",
    "  print(f'  {col}')\n",
    "  market = market.drop([col], axis=1)"
   ]
  },
  {
   "cell_type": "markdown",
   "metadata": {
    "colab_type": "text",
    "id": "CTuyIOGC2jma"
   },
   "source": [
    "#### Tratamento dos valores nulos e duplicados"
   ]
  },
  {
   "cell_type": "markdown",
   "metadata": {
    "colab_type": "text",
    "id": "HvmAd0ZfwrX8"
   },
   "source": [
    "Seleciono para uso apenas as colunas com menos de 10% de dados faltantes. Os valores nulos das colunas restantes são preenchidos pela moda em caso de categoria ou pela média em caso numérico.\n",
    "\n",
    "Dai procuro por dados duplicados e os elimino, com exceção daqueles que estão contidos no portfolio 1. Essa é uma decisão que precisaria ser tomada com alguém que tenha melhor conhecimento dos dados, uma vez que é possível que existam empresas com dados semelhantes."
   ]
  },
  {
   "cell_type": "code",
   "execution_count": 6,
   "metadata": {
    "colab": {
     "base_uri": "https://localhost:8080/",
     "height": 87
    },
    "colab_type": "code",
    "executionInfo": {
     "elapsed": 20423,
     "status": "ok",
     "timestamp": 1592256984701,
     "user": {
      "displayName": "Vinicius Aguiar",
      "photoUrl": "https://lh3.googleusercontent.com/a-/AOh14GiIkJJn8xW1Jifzc3Yu1R42MS1Ter43iIMGz9IS=s64",
      "userId": "17869074096365757693"
     },
     "user_tz": 180
    },
    "id": "btVh0xPinV1S",
    "outputId": "5ef07757-9d9c-4949-fd86-33e113cc45a2"
   },
   "outputs": [
    {
     "name": "stdout",
     "output_type": "stream",
     "text": [
      "substituo as variáveis nulas\n",
      "market tem 181853 empresas duplicadas\n",
      "note que 219 estão contidas no portfolio 1\n",
      "deleto as empresas duplicadas, mantendo as contidas no portfolio 1\n"
     ]
    }
   ],
   "source": [
    "print('substituo as variáveis nulas')\n",
    "market['setor'].fillna('OUTROS', inplace=True)\n",
    "market['vl_faturamento_estimado_aux'].fillna(0, inplace=True)\n",
    "na_index = market['vl_faturamento_estimado_grupo_aux'].isna()\n",
    "na_values = 867689 * (market.loc[na_index, 'qt_filiais'] + 1)\n",
    "market.loc[na_index, 'vl_faturamento_estimado_grupo_aux'] = na_values\n",
    "\n",
    "for col in market.select_dtypes(['float']):\n",
    "  market[col] = market[col].fillna(market[col].mean())\n",
    "for col in market.select_dtypes(['bool', 'object']):\n",
    "  market[col] = market[col].fillna(market[col].mode()[0])\n",
    "\n",
    "duplicated = market.duplicated(keep=False)\n",
    "n_duplicated = duplicated.sum()\n",
    "n_duplicated_in_port1 = 0\n",
    "port1_duplicated_index = []\n",
    "for i, j in zip(duplicated.index, duplicated):\n",
    "  if j and i in port1.index:\n",
    "    n_duplicated_in_port1 += 1\n",
    "    port1_duplicated_index.append(i)\n",
    "if n_duplicated > 0:\n",
    "  market = market.loc[port1_duplicated_index, :].append(market)\n",
    "  market = market.drop_duplicates()\n",
    "  print('market tem', n_duplicated, 'empresas duplicadas')\n",
    "  print(f'note que {n_duplicated_in_port1} estão contidas no portfolio 1')\n",
    "  print('deleto as empresas duplicadas, mantendo as contidas no portfolio 1')\n",
    "else:\n",
    "  print('não existem dados duplicados')"
   ]
  },
  {
   "cell_type": "markdown",
   "metadata": {
    "colab_type": "text",
    "id": "iK7grDUQlyik"
   },
   "source": [
    "#### Tratamento das variáveis categóricas"
   ]
  },
  {
   "cell_type": "markdown",
   "metadata": {
    "colab_type": "text",
    "id": "dkb5WoaBy_9G"
   },
   "source": [
    "Transformo variáveis categoricas em numéricas ordinais ou e gero one hot encodings."
   ]
  },
  {
   "cell_type": "code",
   "execution_count": 7,
   "metadata": {
    "colab": {
     "base_uri": "https://localhost:8080/",
     "height": 141
    },
    "colab_type": "code",
    "executionInfo": {
     "elapsed": 23838,
     "status": "ok",
     "timestamp": 1592256988132,
     "user": {
      "displayName": "Vinicius Aguiar",
      "photoUrl": "https://lh3.googleusercontent.com/a-/AOh14GiIkJJn8xW1Jifzc3Yu1R42MS1Ter43iIMGz9IS=s64",
      "userId": "17869074096365757693"
     },
     "user_tz": 180
    },
    "id": "4wMkNedCWv9j",
    "outputId": "3aec8035-f02d-46f7-ea9a-eef0fc78df26"
   },
   "outputs": [
    {
     "name": "stdout",
     "output_type": "stream",
     "text": [
      "transformo categorias em valores numéricos\n",
      "  transformo a coluna fl_rm em booleana\n",
      "  transformo a coluna de_nivel_atividade em numerico ordinal\n",
      "  transformo a coluna de_saude_tributaria em numerico ordinal\n",
      "gero one hot encoding para as variavéis categóricas\n",
      "  sg_uf\n",
      "  setor\n"
     ]
    }
   ],
   "source": [
    "print('transformo categorias em valores numéricos')\n",
    "print('  transformo a coluna fl_rm em booleana')\n",
    "market['fl_rm'] = [True if item == 'SIM' else False for item in market['fl_rm']]\n",
    "print('  transformo a coluna de_nivel_atividade em numerico ordinal')\n",
    "market['de_nivel_atividade'] = market['de_nivel_atividade'].map({\n",
    "    'MUITO BAIXA': 0.0, 'BAIXA' : 1.0, \n",
    "    'MEDIA': 2.0, 'ALTA': 3.0})\n",
    "print('  transformo a coluna de_saude_tributaria em numerico ordinal')\n",
    "market['de_saude_tributaria'] = market['de_saude_tributaria'].map({\n",
    "    'VERMELHO': 0.0, 'LARANJA' : 1.0, 'AMARELO': 2.0, \n",
    "    'CINZA': 3.0, 'AZUL': 4.0, 'VERDE': 5.0})\n",
    "\n",
    "print('gero one hot encoding para as variavéis categóricas')\n",
    "lb = LabelBinarizer()\n",
    "for col in market.select_dtypes('object'):\n",
    "  index = market.index\n",
    "  encoded = lb.fit_transform(market[col])\n",
    "  columns = [f'{col}_{i}' for i in lb.classes_]\n",
    "  encoded = pd.DataFrame(encoded, index=index, columns=columns)\n",
    "  market = market.drop([col], axis=1)\n",
    "  market = market.join(encoded)\n",
    "  print(f'  {col}')"
   ]
  },
  {
   "cell_type": "markdown",
   "metadata": {
    "colab_type": "text",
    "id": "bCWAPvo5lWJv"
   },
   "source": [
    "#### Tratamento das variáveis numéricas"
   ]
  },
  {
   "cell_type": "markdown",
   "metadata": {
    "colab_type": "text",
    "id": "1EDYjGCVyXvw"
   },
   "source": [
    "Para variáveis com grande variância aplico uma transformação logaritmica. Também converto as variáveis booleanas em numéricas e deleto algumas."
   ]
  },
  {
   "cell_type": "code",
   "execution_count": null,
   "metadata": {
    "colab": {},
    "colab_type": "code",
    "id": "nuD1-HAQnj1t"
   },
   "outputs": [],
   "source": [
    "for col in ['vl_faturamento_estimado_aux', \n",
    "            'vl_faturamento_estimado_grupo_aux', \n",
    "            'qt_filiais'\n",
    "            ]:\n",
    "  market[col] = np.log2(market[col] + 1)\n",
    "\n",
    "for col in market.select_dtypes(include=['bool']):\n",
    "  market[col] = market[col].astype(float)"
   ]
  },
  {
   "cell_type": "markdown",
   "metadata": {
    "colab_type": "text",
    "id": "EsrIc4y7mztt"
   },
   "source": [
    "#### Normalização e criação de prioridades"
   ]
  },
  {
   "cell_type": "code",
   "execution_count": 9,
   "metadata": {
    "colab": {
     "base_uri": "https://localhost:8080/",
     "height": 87
    },
    "colab_type": "code",
    "executionInfo": {
     "elapsed": 24461,
     "status": "ok",
     "timestamp": 1592256988786,
     "user": {
      "displayName": "Vinicius Aguiar",
      "photoUrl": "https://lh3.googleusercontent.com/a-/AOh14GiIkJJn8xW1Jifzc3Yu1R42MS1Ter43iIMGz9IS=s64",
      "userId": "17869074096365757693"
     },
     "user_tz": 180
    },
    "id": "is0CxmYhm3U3",
    "outputId": "ded5d941-9566-4b0f-c47b-279f03f55ed5"
   },
   "outputs": [
    {
     "name": "stdout",
     "output_type": "stream",
     "text": [
      "ordeno as colunas\n",
      "normalizo as colunas\n",
      "proponho prioridades para as variáveis\n",
      "atualizo os portfolios com dados tratados\n"
     ]
    }
   ],
   "source": [
    "print('ordeno as colunas')\n",
    "columns = sorted(market.columns.values)\n",
    "market = market[columns]\n",
    "\n",
    "print('normalizo as colunas')\n",
    "scaler = MinMaxScaler()\n",
    "for col in market:\n",
    "  values = market[col].to_numpy().reshape(-1, 1)\n",
    "  market[col] = scaler.fit_transform(values)\n",
    "\n",
    "print('proponho prioridades para as variáveis')\n",
    "for col in ['idade_empresa_anos',\n",
    "            'qt_filiais',\n",
    "            'vl_faturamento_estimado_aux',\n",
    "            'vl_faturamento_estimado_grupo_aux'\n",
    "            ]:\n",
    "  market[col] = market[col]\n",
    "\n",
    "print('atualizo os portfolios com dados tratados')\n",
    "port1 = port1.join(market, how='inner')\n",
    "port2 = port2.join(market, how='inner')\n",
    "port3 = port3.join(market, how='inner')"
   ]
  },
  {
   "cell_type": "markdown",
   "metadata": {
    "colab_type": "text",
    "id": "kvFZYgIDLv4N"
   },
   "source": [
    "### Treinamento dos Modelos"
   ]
  },
  {
   "cell_type": "markdown",
   "metadata": {
    "colab_type": "text",
    "id": "KlEllEZkwP6V"
   },
   "source": [
    "#### Algoritmo de Similaridade de Cossenos"
   ]
  },
  {
   "cell_type": "code",
   "execution_count": null,
   "metadata": {
    "colab": {},
    "colab_type": "code",
    "id": "eji8sDIv0ToV"
   },
   "outputs": [],
   "source": [
    "class CosineSimilarityModel:\n",
    "  def __init__(self, market):\n",
    "    self.name = 0\n",
    "    self.portfolio = 0\n",
    "    self.similarity = 0\n",
    "    self.market = market\n",
    "  def train(self, portfolio, name):\n",
    "    self.name = name\n",
    "    self.portfolio = portfolio\n",
    "    self.similarity = cosine_similarity(self.market, self.portfolio)\n",
    "  def gen_guess(self, n_guess, train):\n",
    "    shape = (self.market.shape[0], len(train))\n",
    "    guess = self.similarity[:, train]\n",
    "    guess = np.argsort(guess, axis=None)[-(n_guess * len(train)):]\n",
    "    guess = np.unique(np.unravel_index(guess, shape)[0])\n",
    "    guess = [self.market.index[i] for i in guess]\n",
    "    return guess\n",
    "  def get_random_guess(self, n_guess=4):\n",
    "    train_idx, valid_idx = train_test_split(\n",
    "        np.arange(self.portfolio.shape[0]), test_size=.3)\n",
    "    valid = [self.portfolio.index[i] for i in valid_idx]\n",
    "    guess = self.gen_guess(n_guess, train_idx)\n",
    "    return valid, guess\n",
    "  def cross_validate(self, n_guess=4, n_folds=5):\n",
    "    retrival = np.zeros((n_folds, ))\n",
    "    precision = np.zeros((n_folds, ))\n",
    "    sensibility = np.zeros((n_folds, ))\n",
    "    for k in range(n_folds):\n",
    "      train_idx, valid_idx = train_test_split(\n",
    "          np.arange(self.portfolio.shape[0]), test_size=.3)\n",
    "      guess = self.gen_guess(n_guess, train_idx)\n",
    "      train_lbl = [self.portfolio.index[i] for i in train_idx]\n",
    "      valid_lbl = [self.portfolio.index[i] for i in valid_idx]\n",
    "      guess_in_train = [item for item in guess if item in train_lbl]\n",
    "      guess_in_valid = [item for item in guess if item in valid_lbl]\n",
    "      retrival[k] = len(guess_in_train) / len(train_idx)\n",
    "      precision[k] = len(guess_in_valid) / len(guess)\n",
    "      sensibility[k] = len(guess_in_valid) / len(valid_idx)\n",
    "    print(f'\\n{100 * retrival.mean():0>6.2f} ± {100 * retrival.std():0>6.2f}',\n",
    "          f'% de retorno no {self.name} utilizando {len(guess)} sugestões.')\n",
    "    print(f'{100 * precision.mean():0>6.2f} ± {100 * precision.std():0>6.2f}',\n",
    "          f'% de precisão no {self.name} utilizando {len(guess)} sugestões.')\n",
    "    print(f'{100 * sensibility.mean():0>6.2f} ± {100 * sensibility.std():0>6.2f}', \n",
    "          f'% de sensibilidade no {self.name} utilizando {len(guess)} sugestões.')"
   ]
  },
  {
   "cell_type": "code",
   "execution_count": 11,
   "metadata": {
    "colab": {
     "base_uri": "https://localhost:8080/",
     "height": 230
    },
    "colab_type": "code",
    "executionInfo": {
     "elapsed": 582074,
     "status": "ok",
     "timestamp": 1592257546431,
     "user": {
      "displayName": "Vinicius Aguiar",
      "photoUrl": "https://lh3.googleusercontent.com/a-/AOh14GiIkJJn8xW1Jifzc3Yu1R42MS1Ter43iIMGz9IS=s64",
      "userId": "17869074096365757693"
     },
     "user_tz": 180
    },
    "id": "vzZ5f0ImHF8J",
    "outputId": "25173e88-7a6f-4116-a2be-3633cad1a65d"
   },
   "outputs": [
    {
     "name": "stdout",
     "output_type": "stream",
     "text": [
      "\n",
      "100.00 ± 000.00 % de retorno no portolio 1 utilizando 1538 sugestões.\n",
      "000.16 ± 000.05 % de precisão no portolio 1 utilizando 1538 sugestões.\n",
      "001.44 ± 000.48 % de sensibilidade no portolio 1 utilizando 1538 sugestões.\n",
      "\n",
      "100.00 ± 000.00 % de retorno no portolio 2 utilizando 935 sugestões.\n",
      "005.99 ± 000.81 % de precisão no portolio 2 utilizando 935 sugestões.\n",
      "034.24 ± 005.37 % de sensibilidade no portolio 2 utilizando 935 sugestões.\n",
      "\n",
      "100.00 ± 000.00 % de retorno no portolio 3 utilizando 435 sugestões.\n",
      "006.98 ± 000.25 % de precisão no portolio 3 utilizando 435 sugestões.\n",
      "038.25 ± 002.57 % de sensibilidade no portolio 3 utilizando 435 sugestões.\n"
     ]
    }
   ],
   "source": [
    "csm1 = CosineSimilarityModel(market)\n",
    "csm1.train(port1, 'portolio 1')\n",
    "csm1.cross_validate()\n",
    "\n",
    "csm2 = CosineSimilarityModel(market)\n",
    "csm2.train(port2, 'portolio 2')\n",
    "csm2.cross_validate()\n",
    "\n",
    "csm3 = CosineSimilarityModel(market)\n",
    "csm3.train(port3, 'portolio 3')\n",
    "csm3.cross_validate()"
   ]
  },
  {
   "cell_type": "markdown",
   "metadata": {
    "colab_type": "text",
    "id": "W0wkLaHRwKUN"
   },
   "source": [
    "#### Algoritmo de Vizinhos Mais Próximos"
   ]
  },
  {
   "cell_type": "code",
   "execution_count": null,
   "metadata": {
    "colab": {},
    "colab_type": "code",
    "id": "oXF1YB-0cq5Y"
   },
   "outputs": [],
   "source": [
    "class NearestNeighborsModel:\n",
    "  def __init__(self, market):\n",
    "    self.name = 0\n",
    "    self.portfolio = 0\n",
    "    self.market = market\n",
    "    self.model = NearestNeighbors()\n",
    "    self.model.fit(self.market);\n",
    "  def gen_guess(self, n_guess, train):\n",
    "    train = self.portfolio.iloc[train, :]\n",
    "    guess = self.model.kneighbors(\n",
    "        train, n_neighbors=n_guess, return_distance=False)\n",
    "    guess = [market.index[i] for i in np.unique(guess.ravel())]\n",
    "    return guess\n",
    "  def get_random_guess(self, n_guess=4):\n",
    "    train_idx, valid_idx = train_test_split(\n",
    "          np.arange(self.portfolio.shape[0]), test_size=.3)\n",
    "    valid = [self.portfolio.index[i] for i in valid_idx]\n",
    "    guess = self.gen_guess(n_guess, train_idx)\n",
    "    return valid, guess\n",
    "  def cross_validate(self, portfolio, name, n_guess=4, n_folds=5):\n",
    "    self.name = name\n",
    "    self.portfolio = portfolio\n",
    "    retrival = np.zeros((n_folds, ))\n",
    "    precision = np.zeros((n_folds, ))\n",
    "    sensibility = np.zeros((n_folds, ))\n",
    "    for k in range(n_folds):\n",
    "      train_idx, valid_idx = train_test_split(\n",
    "          np.arange(self.portfolio.shape[0]), test_size=.3)\n",
    "      guess = self.gen_guess(n_guess, train_idx)\n",
    "      train_lbl = [self.portfolio.index[i] for i in train_idx]\n",
    "      valid_lbl = [self.portfolio.index[i] for i in valid_idx]\n",
    "      guess_in_train = [item for item in guess if item in train_lbl]\n",
    "      guess_in_valid = [item for item in guess if item in valid_lbl]\n",
    "      retrival[k] = len(guess_in_train) / len(train_idx)\n",
    "      precision[k] = len(guess_in_valid) / len(guess)\n",
    "      sensibility[k] = len(guess_in_valid) / len(valid_idx)\n",
    "    print(f'\\n{100 * retrival.mean():0>6.2f} ± {100 * retrival.std():0>6.2f}',\n",
    "          f'% de retorno no {self.name} utilizando {len(guess)} sugestões.')\n",
    "    print(f'{100 * precision.mean():0>6.2f} ± {100 * precision.std():0>6.2f}',\n",
    "          f'% de precisão no {self.name} utilizando {len(guess)} sugestões.')\n",
    "    print(f'{100 * sensibility.mean():0>6.2f} ± {100 * sensibility.std():0>6.2f}', \n",
    "          f'% de sensibilidade no {self.name} utilizando {len(guess)} sugestões.')"
   ]
  },
  {
   "cell_type": "code",
   "execution_count": 13,
   "metadata": {
    "colab": {
     "base_uri": "https://localhost:8080/",
     "height": 230
    },
    "colab_type": "code",
    "executionInfo": {
     "elapsed": 983063,
     "status": "ok",
     "timestamp": 1592257947473,
     "user": {
      "displayName": "Vinicius Aguiar",
      "photoUrl": "https://lh3.googleusercontent.com/a-/AOh14GiIkJJn8xW1Jifzc3Yu1R42MS1Ter43iIMGz9IS=s64",
      "userId": "17869074096365757693"
     },
     "user_tz": 180
    },
    "id": "Us57l1IWMNQj",
    "outputId": "d5849bd2-f4dd-4294-bc8a-bcfbdaeb49e9"
   },
   "outputs": [
    {
     "name": "stdout",
     "output_type": "stream",
     "text": [
      "\n",
      "100.00 ± 000.00 % de retorno no portolio 1 utilizando 1545 sugestões.\n",
      "000.16 ± 000.11 % de precisão no portolio 1 utilizando 1545 sugestões.\n",
      "001.44 ± 000.97 % de sensibilidade no portolio 1 utilizando 1545 sugestões.\n",
      "\n",
      "100.00 ± 000.00 % de retorno no portolio 2 utilizando 1154 sugestões.\n",
      "006.06 ± 000.20 % de precisão no portolio 2 utilizando 1154 sugestões.\n",
      "041.29 ± 001.31 % de sensibilidade no portolio 2 utilizando 1154 sugestões.\n",
      "\n",
      "100.00 ± 000.00 % de retorno no portolio 3 utilizando 517 sugestões.\n",
      "007.17 ± 000.50 % de precisão no portolio 3 utilizando 517 sugestões.\n",
      "046.25 ± 003.87 % de sensibilidade no portolio 3 utilizando 517 sugestões.\n"
     ]
    }
   ],
   "source": [
    "nnm1 = NearestNeighborsModel(market)\n",
    "nnm1.cross_validate(port1, 'portolio 1')\n",
    "\n",
    "nnm2 = NearestNeighborsModel(market)\n",
    "nnm2.cross_validate(port2, 'portolio 2')\n",
    "\n",
    "nnm3 = NearestNeighborsModel(market)\n",
    "nnm3.cross_validate(port3, 'portolio 3')"
   ]
  },
  {
   "cell_type": "markdown",
   "metadata": {
    "colab_type": "text",
    "id": "vTZX5EIKAUar"
   },
   "source": [
    "### Avaliação dos Modelos"
   ]
  },
  {
   "cell_type": "markdown",
   "metadata": {
    "colab_type": "text",
    "id": "vuvkAXntkIVy"
   },
   "source": [
    "Dada a proposta de criação de um sistema de recomendação de empresas, desenvolvi o projeto através dos métodos similaridade de cossenos e vizinhos mais próximos. Para os conjuntos de validação fornecidos, dividi os mesmos em treino (70% da base) e teste (30% da base) e utilizei o conjunto de treino para gerar recomendações. Executei esse processo 5 vezes para gerar uma aproximação melhor.\n",
    "\n",
    "Usei então as métricas de precisão e sensibilidade para avaliação. Então foi possível observar que tanto o modelo baseado na similaridade de cossenos, quanto o baseado nos vizinhos mais próximos tem precisão e sensibilidade semelhantes. De cerca de 0% no portfolio 1 e aproximadamente 40% para os portfolios 2 e 3. Logo ainda não consegui criar vetores representativos o suficiente.\n",
    "\n",
    "Criei também uma métrica chamada retorno, para analisar se meu conjunto de sugestões de empresa são retornadas pelos métodos utilizados. Esta é uma forma de sanity check. E através dela tive os primeiros indícios da dificuldade de lidar com o portfólio 1.\n",
    "\n",
    "Abaixo, através da análise de componentes principais para duas dimensões é possível observar o quão próximas estão nossas predições dos casos de teste. Também analiso se as distribuições de certas variáveis são condizentes."
   ]
  },
  {
   "cell_type": "code",
   "execution_count": 14,
   "metadata": {
    "colab": {
     "base_uri": "https://localhost:8080/",
     "height": 266
    },
    "colab_type": "code",
    "executionInfo": {
     "elapsed": 985788,
     "status": "ok",
     "timestamp": 1592257950222,
     "user": {
      "displayName": "Vinicius Aguiar",
      "photoUrl": "https://lh3.googleusercontent.com/a-/AOh14GiIkJJn8xW1Jifzc3Yu1R42MS1Ter43iIMGz9IS=s64",
      "userId": "17869074096365757693"
     },
     "user_tz": 180
    },
    "id": "dTTYRJnbo6qU",
    "outputId": "8c657741-ac1a-4ee2-830a-c1d0661b526d"
   },
   "outputs": [
    {
     "data": {
      "image/png": "[encoded data removed]",
      "text/plain": [
       "<Figure size 432x288 with 1 Axes>"
      ]
     },
     "metadata": {
      "needs_background": "light",
      "tags": []
     },
     "output_type": "display_data"
    }
   ],
   "source": [
    "def scatter_comparison(base, guess, ax):\n",
    "  base_2d = pca.transform(market.loc[base, :])\n",
    "  guess_2d = pca.transform(market.loc[guess, :])\n",
    "  ax.scatter(base_2d[:, 0], base_2d[:, 1], alpha=.2);\n",
    "  ax.scatter(guess_2d[:, 0], guess_2d[:, 1], alpha=.2);\n",
    "\n",
    "def histogram_comparison(base, guess, feature, ax):\n",
    "  ax.set_title(feature)\n",
    "  bins = np.arange(0, 1, .1)\n",
    "  hist, _ = np.histogram(market.loc[base, feature], bins=bins)\n",
    "  ax.hist(bins[:-1], bins, label='base', alpha=.6, weights=(hist / hist.sum()))\n",
    "  hist, _ = np.histogram(market.loc[guess, feature], bins=bins)\n",
    "  ax.hist(bins[:-1], bins, label='guess', alpha=.6, weights=(hist / hist.sum()))\n",
    "\n",
    "pca = PCA(n_components=2)\n",
    "market_2d = pca.fit_transform(market)\n",
    "plt.scatter(market_2d[:, 0], market_2d[:, 1], alpha=.2);"
   ]
  },
  {
   "cell_type": "markdown",
   "metadata": {
    "colab_type": "text",
    "id": "AEGHAOOBbF30"
   },
   "source": [
    "#### Algoritmo de Similaridade de Cossenos"
   ]
  },
  {
   "cell_type": "code",
   "execution_count": null,
   "metadata": {
    "colab": {},
    "colab_type": "code",
    "id": "yvuypkzL3fdS"
   },
   "outputs": [],
   "source": [
    "base1, guess1 = csm1.get_random_guess()\n",
    "base2, guess2 = csm2.get_random_guess()\n",
    "base3, guess3 = csm3.get_random_guess()"
   ]
  },
  {
   "cell_type": "code",
   "execution_count": 16,
   "metadata": {
    "colab": {
     "base_uri": "https://localhost:8080/",
     "height": 264
    },
    "colab_type": "code",
    "executionInfo": {
     "elapsed": 1107965,
     "status": "ok",
     "timestamp": 1592258072436,
     "user": {
      "displayName": "Vinicius Aguiar",
      "photoUrl": "https://lh3.googleusercontent.com/a-/AOh14GiIkJJn8xW1Jifzc3Yu1R42MS1Ter43iIMGz9IS=s64",
      "userId": "17869074096365757693"
     },
     "user_tz": 180
    },
    "id": "H1Qcy6e4sDud",
    "outputId": "3cc59d9e-fcec-4149-a073-17190420fbbf"
   },
   "outputs": [
    {
     "data": {
      "image/png": "[encoded data removed]",
      "text/plain": [
       "<Figure size 1152x288 with 3 Axes>"
      ]
     },
     "metadata": {
      "needs_background": "light",
      "tags": []
     },
     "output_type": "display_data"
    }
   ],
   "source": [
    "fig, ax = plt.subplots(1, 3, figsize=(16, 4))\n",
    "scatter_comparison(base1, guess1, ax[0])\n",
    "scatter_comparison(base2, guess2, ax[1])\n",
    "scatter_comparison(base3, guess3, ax[2])"
   ]
  },
  {
   "cell_type": "code",
   "execution_count": 17,
   "metadata": {
    "colab": {
     "base_uri": "https://localhost:8080/",
     "height": 281
    },
    "colab_type": "code",
    "executionInfo": {
     "elapsed": 1108545,
     "status": "ok",
     "timestamp": 1592258073039,
     "user": {
      "displayName": "Vinicius Aguiar",
      "photoUrl": "https://lh3.googleusercontent.com/a-/AOh14GiIkJJn8xW1Jifzc3Yu1R42MS1Ter43iIMGz9IS=s64",
      "userId": "17869074096365757693"
     },
     "user_tz": 180
    },
    "id": "n9aZn0prpOPX",
    "outputId": "d6c5f473-9363-4455-c055-ce13c1d7b5ea"
   },
   "outputs": [
    {
     "data": {
      "image/png": "[encoded data removed]",
      "text/plain": [
       "<Figure size 1152x288 with 3 Axes>"
      ]
     },
     "metadata": {
      "needs_background": "light",
      "tags": []
     },
     "output_type": "display_data"
    }
   ],
   "source": [
    "fig, ax = plt.subplots(1, 3, figsize=(16, 4))\n",
    "histogram_comparison(base1, guess1, 'idade_empresa_anos', ax[0])\n",
    "histogram_comparison(base1, guess1, 'de_nivel_atividade', ax[1])\n",
    "histogram_comparison(base1, guess1, 'de_saude_tributaria', ax[2])"
   ]
  },
  {
   "cell_type": "code",
   "execution_count": 18,
   "metadata": {
    "colab": {
     "base_uri": "https://localhost:8080/",
     "height": 281
    },
    "colab_type": "code",
    "executionInfo": {
     "elapsed": 1108842,
     "status": "ok",
     "timestamp": 1592258073357,
     "user": {
      "displayName": "Vinicius Aguiar",
      "photoUrl": "https://lh3.googleusercontent.com/a-/AOh14GiIkJJn8xW1Jifzc3Yu1R42MS1Ter43iIMGz9IS=s64",
      "userId": "17869074096365757693"
     },
     "user_tz": 180
    },
    "id": "JtOi-fGv3pNX",
    "outputId": "181101ba-d86e-4d2a-bed0-820944ab12a7"
   },
   "outputs": [
    {
     "data": {
      "image/png": "[encoded data removed]",
      "text/plain": [
       "<Figure size 1152x288 with 3 Axes>"
      ]
     },
     "metadata": {
      "needs_background": "light",
      "tags": []
     },
     "output_type": "display_data"
    }
   ],
   "source": [
    "fig, ax = plt.subplots(1, 3, figsize=(16, 4))\n",
    "histogram_comparison(base2, guess2, 'idade_empresa_anos', ax[0])\n",
    "histogram_comparison(base2, guess2, 'de_nivel_atividade', ax[1])\n",
    "histogram_comparison(base2, guess2, 'de_saude_tributaria', ax[2])"
   ]
  },
  {
   "cell_type": "code",
   "execution_count": 19,
   "metadata": {
    "colab": {
     "base_uri": "https://localhost:8080/",
     "height": 281
    },
    "colab_type": "code",
    "executionInfo": {
     "elapsed": 1109851,
     "status": "ok",
     "timestamp": 1592258074384,
     "user": {
      "displayName": "Vinicius Aguiar",
      "photoUrl": "https://lh3.googleusercontent.com/a-/AOh14GiIkJJn8xW1Jifzc3Yu1R42MS1Ter43iIMGz9IS=s64",
      "userId": "17869074096365757693"
     },
     "user_tz": 180
    },
    "id": "bXAKwwtp3pQZ",
    "outputId": "c126f216-07b8-4232-8dd0-3a500eea4506"
   },
   "outputs": [
    {
     "data": {
      "image/png": "[encoded data removed]",
      "text/plain": [
       "<Figure size 1152x288 with 3 Axes>"
      ]
     },
     "metadata": {
      "needs_background": "light",
      "tags": []
     },
     "output_type": "display_data"
    }
   ],
   "source": [
    "fig, ax = plt.subplots(1, 3, figsize=(16, 4))\n",
    "histogram_comparison(base3, guess3, 'idade_empresa_anos', ax[0])\n",
    "histogram_comparison(base3, guess3, 'de_nivel_atividade', ax[1])\n",
    "histogram_comparison(base3, guess3, 'de_saude_tributaria', ax[2])"
   ]
  },
  {
   "cell_type": "markdown",
   "metadata": {
    "colab_type": "text",
    "id": "MovXwepHbJyF"
   },
   "source": [
    "#### Algoritmo de Vizinhos Mais Próximos"
   ]
  },
  {
   "cell_type": "code",
   "execution_count": null,
   "metadata": {
    "colab": {},
    "colab_type": "code",
    "id": "C8CGIAVL36tD"
   },
   "outputs": [],
   "source": [
    "base1, guess1 = nnm1.get_random_guess()\n",
    "base2, guess2 = nnm2.get_random_guess()\n",
    "base3, guess3 = nnm3.get_random_guess()"
   ]
  },
  {
   "cell_type": "code",
   "execution_count": 22,
   "metadata": {
    "colab": {
     "base_uri": "https://localhost:8080/",
     "height": 264
    },
    "colab_type": "code",
    "executionInfo": {
     "elapsed": 1403,
     "status": "ok",
     "timestamp": 1592259694056,
     "user": {
      "displayName": "Vinicius Aguiar",
      "photoUrl": "https://lh3.googleusercontent.com/a-/AOh14GiIkJJn8xW1Jifzc3Yu1R42MS1Ter43iIMGz9IS=s64",
      "userId": "17869074096365757693"
     },
     "user_tz": 180
    },
    "id": "OSFrDGPyhjrZ",
    "outputId": "b1e27701-6eab-498e-982a-5c55b043cecb"
   },
   "outputs": [
    {
     "data": {
      "image/png": "[encoded data removed]",
      "text/plain": [
       "<Figure size 1152x288 with 3 Axes>"
      ]
     },
     "metadata": {
      "needs_background": "light",
      "tags": []
     },
     "output_type": "display_data"
    }
   ],
   "source": [
    "fig, ax = plt.subplots(1, 3, figsize=(16, 4))\n",
    "scatter_comparison(base1, guess1, ax[0])\n",
    "scatter_comparison(base2, guess2, ax[1])\n",
    "scatter_comparison(base3, guess3, ax[2])"
   ]
  },
  {
   "cell_type": "code",
   "execution_count": 23,
   "metadata": {
    "colab": {
     "base_uri": "https://localhost:8080/",
     "height": 281
    },
    "colab_type": "code",
    "executionInfo": {
     "elapsed": 1139,
     "status": "ok",
     "timestamp": 1592259696822,
     "user": {
      "displayName": "Vinicius Aguiar",
      "photoUrl": "https://lh3.googleusercontent.com/a-/AOh14GiIkJJn8xW1Jifzc3Yu1R42MS1Ter43iIMGz9IS=s64",
      "userId": "17869074096365757693"
     },
     "user_tz": 180
    },
    "id": "VAWSLnir4Hd0",
    "outputId": "dccb275b-d8df-4ced-9f4c-b97c664d1a9a"
   },
   "outputs": [
    {
     "data": {
      "image/png": "[encoded data removed]",
      "text/plain": [
       "<Figure size 1152x288 with 3 Axes>"
      ]
     },
     "metadata": {
      "needs_background": "light",
      "tags": []
     },
     "output_type": "display_data"
    }
   ],
   "source": [
    "fig, ax = plt.subplots(1, 3, figsize=(16, 4))\n",
    "histogram_comparison(base1, guess1, 'idade_empresa_anos', ax[0])\n",
    "histogram_comparison(base1, guess1, 'de_nivel_atividade', ax[1])\n",
    "histogram_comparison(base1, guess1, 'de_saude_tributaria', ax[2])"
   ]
  },
  {
   "cell_type": "code",
   "execution_count": 24,
   "metadata": {
    "colab": {
     "base_uri": "https://localhost:8080/",
     "height": 281
    },
    "colab_type": "code",
    "executionInfo": {
     "elapsed": 1558,
     "status": "ok",
     "timestamp": 1592259697462,
     "user": {
      "displayName": "Vinicius Aguiar",
      "photoUrl": "https://lh3.googleusercontent.com/a-/AOh14GiIkJJn8xW1Jifzc3Yu1R42MS1Ter43iIMGz9IS=s64",
      "userId": "17869074096365757693"
     },
     "user_tz": 180
    },
    "id": "NPojZKlM5tu1",
    "outputId": "8252978e-7751-47cc-efbc-7516e5c381c5"
   },
   "outputs": [
    {
     "data": {
      "image/png": "[encoded data removed]",
      "text/plain": [
       "<Figure size 1152x288 with 3 Axes>"
      ]
     },
     "metadata": {
      "needs_background": "light",
      "tags": []
     },
     "output_type": "display_data"
    }
   ],
   "source": [
    "fig, ax = plt.subplots(1, 3, figsize=(16, 4))\n",
    "histogram_comparison(base2, guess2, 'idade_empresa_anos', ax[0])\n",
    "histogram_comparison(base2, guess2, 'de_nivel_atividade', ax[1])\n",
    "histogram_comparison(base2, guess2, 'de_saude_tributaria', ax[2])"
   ]
  },
  {
   "cell_type": "code",
   "execution_count": 25,
   "metadata": {
    "colab": {
     "base_uri": "https://localhost:8080/",
     "height": 281
    },
    "colab_type": "code",
    "executionInfo": {
     "elapsed": 1434,
     "status": "ok",
     "timestamp": 1592259698931,
     "user": {
      "displayName": "Vinicius Aguiar",
      "photoUrl": "https://lh3.googleusercontent.com/a-/AOh14GiIkJJn8xW1Jifzc3Yu1R42MS1Ter43iIMGz9IS=s64",
      "userId": "17869074096365757693"
     },
     "user_tz": 180
    },
    "id": "muvkkT625tyo",
    "outputId": "84915c39-01be-4e3e-819f-537172da76eb"
   },
   "outputs": [
    {
     "data": {
      "image/png": "[encoded data removed]",
      "text/plain": [
       "<Figure size 1152x288 with 3 Axes>"
      ]
     },
     "metadata": {
      "needs_background": "light",
      "tags": []
     },
     "output_type": "display_data"
    }
   ],
   "source": [
    "fig, ax = plt.subplots(1, 3, figsize=(16, 4))\n",
    "histogram_comparison(base3, guess3, 'idade_empresa_anos', ax[0])\n",
    "histogram_comparison(base3, guess3, 'de_nivel_atividade', ax[1])\n",
    "histogram_comparison(base3, guess3, 'de_saude_tributaria', ax[2])"
   ]
  },
  {
   "cell_type": "markdown",
   "metadata": {
    "colab_type": "text",
    "id": "p7yupOwgbKlP"
   },
   "source": [
    "#### Conclusão"
   ]
  },
  {
   "cell_type": "markdown",
   "metadata": {
    "colab_type": "text",
    "id": "gOdoSX9CnEQB"
   },
   "source": [
    "Em geral essa se mostrou uma boa oportunidade de aprender sobre sistemas de recomendação, sobre quais são seus príncipios e métodos utilizados. E apesar de não ter conseguido um resultado significativo esse projeto evoluiu muito com ajuda de outros membros da comunidade, tanto pela discussão no fórum quanto pelo compartilhamento de código pelo GitHub.\n",
    "\n",
    "Para projetos futuros pretendo utilizar melhor orientação a objetos, tanto para criação de pipelines, quanto para deploy."
   ]
  }
 ],
 "metadata": {
  "colab": {
   "authorship_tag": "ABX9TyOqIWvMzYjzeRGjgyzQIZBl",
   "collapsed_sections": [],
   "name": "market-leads.ipynb",
   "provenance": []
  },
  "kernelspec": {
   "display_name": "Python 3",
   "language": "python",
   "name": "python3"
  },
  "language_info": {
   "codemirror_mode": {
    "name": "ipython",
    "version": 3
   },
   "file_extension": ".py",
   "mimetype": "text/x-python",
   "name": "python",
   "nbconvert_exporter": "python",
   "pygments_lexer": "ipython3",
   "version": "3.8.5"
  }
 },
 "nbformat": 4,
 "nbformat_minor": 4
}
